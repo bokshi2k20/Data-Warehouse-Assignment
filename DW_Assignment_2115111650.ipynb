{
 "cells": [
  {
   "cell_type": "markdown",
   "id": "20fcadde",
   "metadata": {},
   "source": [
    " # CSE512-Assignment\n",
    " \n",
    "# Anonna Bokshi    \n",
    "\n",
    "Department of Electrical & Computer Engineering, North South University <br>\n",
    "ID: 2115111650"
   ]
  },
  {
   "cell_type": "markdown",
   "id": "523b18c1",
   "metadata": {},
   "source": [
    "# Module installation"
   ]
  },
  {
   "cell_type": "code",
   "execution_count": 1,
   "id": "4a8b871b",
   "metadata": {},
   "outputs": [
    {
     "name": "stdout",
     "output_type": "stream",
     "text": [
      "Requirement already satisfied: psycopg2 in d:\\anonnabokshi\\lib\\site-packages (2.9.6)\n",
      "Note: you may need to restart the kernel to use updated packages.\n"
     ]
    },
    {
     "name": "stderr",
     "output_type": "stream",
     "text": [
      "\n",
      "[notice] A new release of pip is available: 23.0.1 -> 23.1.2\n",
      "[notice] To update, run: python.exe -m pip install --upgrade pip\n"
     ]
    }
   ],
   "source": [
    "pip install psycopg2"
   ]
  },
  {
   "cell_type": "code",
   "execution_count": 2,
   "id": "77c23eb1",
   "metadata": {},
   "outputs": [
    {
     "name": "stdout",
     "output_type": "stream",
     "text": [
      "Requirement already satisfied: openpyxl in d:\\anonnabokshi\\lib\\site-packages (3.1.2)\n",
      "Requirement already satisfied: et-xmlfile in d:\\anonnabokshi\\lib\\site-packages (from openpyxl) (1.1.0)\n",
      "Note: you may need to restart the kernel to use updated packages.\n"
     ]
    },
    {
     "name": "stderr",
     "output_type": "stream",
     "text": [
      "\n",
      "[notice] A new release of pip is available: 23.0.1 -> 23.1.2\n",
      "[notice] To update, run: python.exe -m pip install --upgrade pip\n"
     ]
    }
   ],
   "source": [
    "pip install openpyxl"
   ]
  },
  {
   "cell_type": "code",
   "execution_count": 3,
   "id": "bc10ed19",
   "metadata": {},
   "outputs": [
    {
     "name": "stdout",
     "output_type": "stream",
     "text": [
      "Requirement already satisfied: pandas in d:\\anonnabokshi\\lib\\site-packages (2.0.0)\n",
      "Requirement already satisfied: python-dateutil>=2.8.2 in d:\\anonnabokshi\\lib\\site-packages (from pandas) (2.8.2)\n",
      "Requirement already satisfied: pytz>=2020.1 in d:\\anonnabokshi\\lib\\site-packages (from pandas) (2023.3)\n",
      "Requirement already satisfied: tzdata>=2022.1 in d:\\anonnabokshi\\lib\\site-packages (from pandas) (2023.3)\n",
      "Requirement already satisfied: numpy>=1.21.0 in d:\\anonnabokshi\\lib\\site-packages (from pandas) (1.24.2)\n",
      "Requirement already satisfied: six>=1.5 in d:\\anonnabokshi\\lib\\site-packages (from python-dateutil>=2.8.2->pandas) (1.16.0)\n",
      "Note: you may need to restart the kernel to use updated packages.\n"
     ]
    },
    {
     "name": "stderr",
     "output_type": "stream",
     "text": [
      "\n",
      "[notice] A new release of pip is available: 23.0.1 -> 23.1.2\n",
      "[notice] To update, run: python.exe -m pip install --upgrade pip\n"
     ]
    }
   ],
   "source": [
    "pip install pandas"
   ]
  },
  {
   "cell_type": "markdown",
   "id": "259d531d",
   "metadata": {},
   "source": [
    "# Importing libraries"
   ]
  },
  {
   "cell_type": "code",
   "execution_count": 4,
   "id": "4b272271",
   "metadata": {},
   "outputs": [],
   "source": [
    "import psycopg2\n",
    "import pandas as pd\n",
    "import psycopg2.extras"
   ]
  },
  {
   "cell_type": "markdown",
   "id": "6dc8e10d",
   "metadata": {},
   "source": [
    "# Loading data"
   ]
  },
  {
   "cell_type": "code",
   "execution_count": 6,
   "id": "b86febb5",
   "metadata": {},
   "outputs": [],
   "source": [
    "def load_fact_table_data():\n",
    "    \n",
    "    fact_table=pd.read_excel(r'D:\\HDA-Tech-Learning\\e-commerece_data.xlsx', sheet_name='Fact_table', engine='openpyxl')\n",
    "    \n",
    "    return fact_table\n",
    "\n",
    "\n",
    "def load_transaction_dim_data():\n",
    "    \n",
    "    transaction_dim=pd.read_excel(r'D:\\HDA-Tech-Learning\\e-commerece_data.xlsx', sheet_name='Trans_dim', engine='openpyxl')\n",
    "    \n",
    "    return transaction_dim\n",
    "\n",
    "\n",
    "def load_item_dim_data():\n",
    "    \n",
    "    item_dim=pd.read_excel(r'D:\\HDA-Tech-Learning\\e-commerece_data.xlsx', sheet_name='Item_dim', engine='openpyxl')\n",
    "    \n",
    "    return item_dim\n",
    "\n",
    "def load_customer_dim_data():\n",
    "    \n",
    "    customer_dim=pd.read_excel(r'D:\\HDA-Tech-Learning\\e-commerece_data.xlsx', sheet_name='Coustomer_dim', engine='openpyxl')\n",
    "    \n",
    "    return customer_dim\n",
    "\n",
    "def load_time_dim_data():\n",
    "    \n",
    "    time_dim=pd.read_excel(r'D:\\HDA-Tech-Learning\\e-commerece_data.xlsx', sheet_name='Time_dim', engine='openpyxl')\n",
    "    \n",
    "    return time_dim\n",
    "\n",
    "def load_store_dim_data():\n",
    "    \n",
    "    store_dim=pd.read_excel(r'D:\\HDA-Tech-Learning\\e-commerece_data.xlsx', sheet_name='Store_dim', engine='openpyxl')\n",
    "    \n",
    "    return store_dim"
   ]
  },
  {
   "cell_type": "code",
   "execution_count": 7,
   "id": "41a82fc2",
   "metadata": {},
   "outputs": [],
   "source": [
    "fact_table= load_fact_table_data()\n",
    "transaction_dim= load_transaction_dim_data()\n",
    "item_dim= load_item_dim_data()\n",
    "customer_dim= load_customer_dim_data()\n",
    "time_dim= load_time_dim_data()\n",
    "store_dim= load_store_dim_data()"
   ]
  },
  {
   "cell_type": "code",
   "execution_count": 8,
   "id": "10f3f21e",
   "metadata": {},
   "outputs": [
    {
     "data": {
      "text/html": [
       "<div>\n",
       "<style scoped>\n",
       "    .dataframe tbody tr th:only-of-type {\n",
       "        vertical-align: middle;\n",
       "    }\n",
       "\n",
       "    .dataframe tbody tr th {\n",
       "        vertical-align: top;\n",
       "    }\n",
       "\n",
       "    .dataframe thead th {\n",
       "        text-align: right;\n",
       "    }\n",
       "</style>\n",
       "<table border=\"1\" class=\"dataframe\">\n",
       "  <thead>\n",
       "    <tr style=\"text-align: right;\">\n",
       "      <th></th>\n",
       "      <th>payment_key</th>\n",
       "      <th>coustomer_key</th>\n",
       "      <th>time_key</th>\n",
       "      <th>item_key</th>\n",
       "      <th>store_key</th>\n",
       "      <th>quantity</th>\n",
       "      <th>unit</th>\n",
       "      <th>unit_price</th>\n",
       "      <th>total_price</th>\n",
       "    </tr>\n",
       "  </thead>\n",
       "  <tbody>\n",
       "    <tr>\n",
       "      <th>0</th>\n",
       "      <td>P026</td>\n",
       "      <td>C004510</td>\n",
       "      <td>T049189</td>\n",
       "      <td>I00177</td>\n",
       "      <td>S00307</td>\n",
       "      <td>1</td>\n",
       "      <td>ct</td>\n",
       "      <td>35.0</td>\n",
       "      <td>35.0</td>\n",
       "    </tr>\n",
       "    <tr>\n",
       "      <th>1</th>\n",
       "      <td>P022</td>\n",
       "      <td>C008967</td>\n",
       "      <td>T041209</td>\n",
       "      <td>I00248</td>\n",
       "      <td>S00595</td>\n",
       "      <td>1</td>\n",
       "      <td>rolls</td>\n",
       "      <td>26.0</td>\n",
       "      <td>26.0</td>\n",
       "    </tr>\n",
       "    <tr>\n",
       "      <th>2</th>\n",
       "      <td>P030</td>\n",
       "      <td>C007261</td>\n",
       "      <td>T03633</td>\n",
       "      <td>I00195</td>\n",
       "      <td>S00496</td>\n",
       "      <td>8</td>\n",
       "      <td>ct</td>\n",
       "      <td>12.5</td>\n",
       "      <td>100.0</td>\n",
       "    </tr>\n",
       "    <tr>\n",
       "      <th>3</th>\n",
       "      <td>P032</td>\n",
       "      <td>C007048</td>\n",
       "      <td>T084631</td>\n",
       "      <td>I00131</td>\n",
       "      <td>S0086</td>\n",
       "      <td>8</td>\n",
       "      <td>ct</td>\n",
       "      <td>14.0</td>\n",
       "      <td>112.0</td>\n",
       "    </tr>\n",
       "    <tr>\n",
       "      <th>4</th>\n",
       "      <td>P014</td>\n",
       "      <td>C006430</td>\n",
       "      <td>T071276</td>\n",
       "      <td>I00050</td>\n",
       "      <td>S00488</td>\n",
       "      <td>8</td>\n",
       "      <td>cans</td>\n",
       "      <td>8.0</td>\n",
       "      <td>64.0</td>\n",
       "    </tr>\n",
       "  </tbody>\n",
       "</table>\n",
       "</div>"
      ],
      "text/plain": [
       "  payment_key coustomer_key time_key item_key store_key  quantity   unit   \n",
       "0        P026       C004510  T049189   I00177    S00307         1     ct  \\\n",
       "1        P022       C008967  T041209   I00248    S00595         1  rolls   \n",
       "2        P030       C007261   T03633   I00195    S00496         8     ct   \n",
       "3        P032       C007048  T084631   I00131     S0086         8     ct   \n",
       "4        P014       C006430  T071276   I00050    S00488         8   cans   \n",
       "\n",
       "   unit_price  total_price  \n",
       "0        35.0         35.0  \n",
       "1        26.0         26.0  \n",
       "2        12.5        100.0  \n",
       "3        14.0        112.0  \n",
       "4         8.0         64.0  "
      ]
     },
     "execution_count": 8,
     "metadata": {},
     "output_type": "execute_result"
    }
   ],
   "source": [
    "fact_table.head(5)"
   ]
  },
  {
   "cell_type": "code",
   "execution_count": null,
   "id": "9834d1d8",
   "metadata": {},
   "outputs": [],
   "source": []
  },
  {
   "cell_type": "markdown",
   "id": "f6becdcd",
   "metadata": {},
   "source": [
    "# Identify missing values"
   ]
  },
  {
   "cell_type": "code",
   "execution_count": 11,
   "id": "25ae0114",
   "metadata": {},
   "outputs": [
    {
     "data": {
      "text/plain": [
       "payment_key         0\n",
       "coustomer_key       0\n",
       "time_key            0\n",
       "item_key            0\n",
       "store_key           0\n",
       "quantity            0\n",
       "unit             3723\n",
       "unit_price          0\n",
       "total_price         0\n",
       "dtype: int64"
      ]
     },
     "execution_count": 11,
     "metadata": {},
     "output_type": "execute_result"
    }
   ],
   "source": [
    "fact_table.isnull().sum()"
   ]
  },
  {
   "cell_type": "code",
   "execution_count": 12,
   "id": "8d25c4ba",
   "metadata": {},
   "outputs": [
    {
     "data": {
      "text/plain": [
       "payment_key    0\n",
       "trans_type     0\n",
       "bank_name      1\n",
       "dtype: int64"
      ]
     },
     "execution_count": 12,
     "metadata": {},
     "output_type": "execute_result"
    }
   ],
   "source": [
    "transaction_dim.isnull().sum()"
   ]
  },
  {
   "cell_type": "code",
   "execution_count": 14,
   "id": "8df83461",
   "metadata": {},
   "outputs": [
    {
     "data": {
      "text/plain": [
       "item_key       0\n",
       "item_name      0\n",
       "desc           0\n",
       "unit_price     0\n",
       "man_country    0\n",
       "supplier       0\n",
       "unit           1\n",
       "dtype: int64"
      ]
     },
     "execution_count": 14,
     "metadata": {},
     "output_type": "execute_result"
    }
   ],
   "source": [
    "item_dim.isnull().sum()"
   ]
  },
  {
   "cell_type": "code",
   "execution_count": 15,
   "id": "cf86a96b",
   "metadata": {},
   "outputs": [
    {
     "data": {
      "text/plain": [
       "coustomer_key     0\n",
       "name             27\n",
       "contact_no        0\n",
       "nid               0\n",
       "dtype: int64"
      ]
     },
     "execution_count": 15,
     "metadata": {},
     "output_type": "execute_result"
    }
   ],
   "source": [
    "customer_dim.isnull().sum()"
   ]
  },
  {
   "cell_type": "code",
   "execution_count": 16,
   "id": "382a18f5",
   "metadata": {},
   "outputs": [
    {
     "data": {
      "text/plain": [
       "time_key    0\n",
       "date        0\n",
       "hour        0\n",
       "day         0\n",
       "week        0\n",
       "month       0\n",
       "quarter     0\n",
       "year        0\n",
       "dtype: int64"
      ]
     },
     "execution_count": 16,
     "metadata": {},
     "output_type": "execute_result"
    }
   ],
   "source": [
    "time_dim.isnull().sum()"
   ]
  },
  {
   "cell_type": "code",
   "execution_count": 17,
   "id": "2ecda504",
   "metadata": {},
   "outputs": [
    {
     "data": {
      "text/plain": [
       "store_key    0\n",
       "division     0\n",
       "district     0\n",
       "upazila      0\n",
       "dtype: int64"
      ]
     },
     "execution_count": 17,
     "metadata": {},
     "output_type": "execute_result"
    }
   ],
   "source": [
    "store_dim.isnull().sum()"
   ]
  },
  {
   "cell_type": "markdown",
   "id": "637963b8",
   "metadata": {},
   "source": [
    "We can measure that the data frame such as fact_table, customer_dim, item_dim and transaction_dim have missing values, therefore, it has to be removed before executing the further steps"
   ]
  },
  {
   "cell_type": "markdown",
   "id": "9a90518c",
   "metadata": {},
   "source": [
    "# Remove missing values "
   ]
  },
  {
   "cell_type": "code",
   "execution_count": 21,
   "id": "dc1cbc47",
   "metadata": {},
   "outputs": [
    {
     "name": "stdout",
     "output_type": "stream",
     "text": [
      "Total number of rows:  996277\n",
      "Total missing values: payment_key      0\n",
      "coustomer_key    0\n",
      "time_key         0\n",
      "item_key         0\n",
      "store_key        0\n",
      "quantity         0\n",
      "unit             0\n",
      "unit_price       0\n",
      "total_price      0\n",
      "dtype: int64\n"
     ]
    }
   ],
   "source": [
    "fact_table=fact_table.dropna()\n",
    "num_rows = len(fact_table)\n",
    "print(\"Total number of rows: \", num_rows)\n",
    "print(f\"Total missing values: {fact_table.isnull().sum()}\")"
   ]
  },
  {
   "cell_type": "code",
   "execution_count": 18,
   "id": "be15613c",
   "metadata": {},
   "outputs": [
    {
     "name": "stdout",
     "output_type": "stream",
     "text": [
      "Total number of rows:  38\n",
      "Total missing values: payment_key    0\n",
      "trans_type     0\n",
      "bank_name      0\n",
      "dtype: int64\n"
     ]
    }
   ],
   "source": [
    "transaction_dim=transaction_dim.dropna()\n",
    "num_rows = len(transaction_dim)\n",
    "print(\"Total number of rows: \", num_rows)\n",
    "print(f\"Total missing values: {transaction_dim.isnull().sum()}\")"
   ]
  },
  {
   "cell_type": "code",
   "execution_count": 19,
   "id": "2cea82e5",
   "metadata": {},
   "outputs": [
    {
     "name": "stdout",
     "output_type": "stream",
     "text": [
      "Total number of rows:  263\n",
      "Total missing values: item_key       0\n",
      "item_name      0\n",
      "desc           0\n",
      "unit_price     0\n",
      "man_country    0\n",
      "supplier       0\n",
      "unit           0\n",
      "dtype: int64\n"
     ]
    }
   ],
   "source": [
    "item_dim=item_dim.dropna()\n",
    "num_rows = len(item_dim)\n",
    "print(\"Total number of rows: \", num_rows)\n",
    "print(f\"Total missing values: {item_dim.isnull().sum()}\")"
   ]
  },
  {
   "cell_type": "code",
   "execution_count": 20,
   "id": "3b7ca106",
   "metadata": {},
   "outputs": [
    {
     "name": "stdout",
     "output_type": "stream",
     "text": [
      "Total number of rows:  263\n",
      "Total missing values: coustomer_key    0\n",
      "name             0\n",
      "contact_no       0\n",
      "nid              0\n",
      "dtype: int64\n"
     ]
    }
   ],
   "source": [
    "customer_dim=customer_dim.dropna()\n",
    "num_rows = len(item_dim)\n",
    "print(\"Total number of rows: \", num_rows)\n",
    "print(f\"Total missing values: {customer_dim.isnull().sum()}\")"
   ]
  },
  {
   "cell_type": "code",
   "execution_count": null,
   "id": "afe5faa2",
   "metadata": {},
   "outputs": [],
   "source": []
  },
  {
   "cell_type": "markdown",
   "id": "7eaa5a6f",
   "metadata": {},
   "source": [
    "# Data Transformation"
   ]
  },
  {
   "cell_type": "code",
   "execution_count": 22,
   "id": "0ca727e2",
   "metadata": {},
   "outputs": [
    {
     "data": {
      "text/plain": [
       "item_key        object\n",
       "item_name       object\n",
       "desc            object\n",
       "unit_price     float64\n",
       "man_country     object\n",
       "supplier        object\n",
       "unit            object\n",
       "dtype: object"
      ]
     },
     "execution_count": 22,
     "metadata": {},
     "output_type": "execute_result"
    }
   ],
   "source": [
    "item_dim['unit_price'] = pd.to_numeric(item_dim['unit_price'])\n",
    "item_dim.dtypes"
   ]
  },
  {
   "cell_type": "code",
   "execution_count": 23,
   "id": "24322f97",
   "metadata": {},
   "outputs": [
    {
     "name": "stderr",
     "output_type": "stream",
     "text": [
      "C:\\Users\\ACER\\AppData\\Local\\Temp\\ipykernel_8980\\236773692.py:1: UserWarning: Parsing dates in %d-%m-%Y %H:%M format when dayfirst=False (the default) was specified. Pass `dayfirst=True` or specify a format to silence this warning.\n",
      "  time_dim['date'] = time_dim['date'].astype('datetime64[ns]')\n"
     ]
    },
    {
     "data": {
      "text/html": [
       "<div>\n",
       "<style scoped>\n",
       "    .dataframe tbody tr th:only-of-type {\n",
       "        vertical-align: middle;\n",
       "    }\n",
       "\n",
       "    .dataframe tbody tr th {\n",
       "        vertical-align: top;\n",
       "    }\n",
       "\n",
       "    .dataframe thead th {\n",
       "        text-align: right;\n",
       "    }\n",
       "</style>\n",
       "<table border=\"1\" class=\"dataframe\">\n",
       "  <thead>\n",
       "    <tr style=\"text-align: right;\">\n",
       "      <th></th>\n",
       "      <th>time_key</th>\n",
       "      <th>date</th>\n",
       "      <th>hour</th>\n",
       "      <th>day</th>\n",
       "      <th>week</th>\n",
       "      <th>month</th>\n",
       "      <th>quarter</th>\n",
       "      <th>year</th>\n",
       "    </tr>\n",
       "  </thead>\n",
       "  <tbody>\n",
       "    <tr>\n",
       "      <th>0</th>\n",
       "      <td>T00001</td>\n",
       "      <td>2017-05-20 14:56:00</td>\n",
       "      <td>14</td>\n",
       "      <td>20</td>\n",
       "      <td>3rd Week</td>\n",
       "      <td>5</td>\n",
       "      <td>Q2</td>\n",
       "      <td>2017</td>\n",
       "    </tr>\n",
       "    <tr>\n",
       "      <th>1</th>\n",
       "      <td>T00002</td>\n",
       "      <td>2015-01-30 22:14:00</td>\n",
       "      <td>22</td>\n",
       "      <td>30</td>\n",
       "      <td>4th Week</td>\n",
       "      <td>1</td>\n",
       "      <td>Q1</td>\n",
       "      <td>2015</td>\n",
       "    </tr>\n",
       "    <tr>\n",
       "      <th>2</th>\n",
       "      <td>T00003</td>\n",
       "      <td>2020-03-14 02:34:00</td>\n",
       "      <td>2</td>\n",
       "      <td>14</td>\n",
       "      <td>2nd Week</td>\n",
       "      <td>3</td>\n",
       "      <td>Q1</td>\n",
       "      <td>2020</td>\n",
       "    </tr>\n",
       "    <tr>\n",
       "      <th>3</th>\n",
       "      <td>T00004</td>\n",
       "      <td>2018-04-27 12:19:00</td>\n",
       "      <td>12</td>\n",
       "      <td>27</td>\n",
       "      <td>4th Week</td>\n",
       "      <td>4</td>\n",
       "      <td>Q2</td>\n",
       "      <td>2018</td>\n",
       "    </tr>\n",
       "    <tr>\n",
       "      <th>4</th>\n",
       "      <td>T00005</td>\n",
       "      <td>2018-04-14 10:43:00</td>\n",
       "      <td>10</td>\n",
       "      <td>14</td>\n",
       "      <td>2nd Week</td>\n",
       "      <td>4</td>\n",
       "      <td>Q2</td>\n",
       "      <td>2018</td>\n",
       "    </tr>\n",
       "    <tr>\n",
       "      <th>...</th>\n",
       "      <td>...</td>\n",
       "      <td>...</td>\n",
       "      <td>...</td>\n",
       "      <td>...</td>\n",
       "      <td>...</td>\n",
       "      <td>...</td>\n",
       "      <td>...</td>\n",
       "      <td>...</td>\n",
       "    </tr>\n",
       "    <tr>\n",
       "      <th>99994</th>\n",
       "      <td>T099995</td>\n",
       "      <td>2015-01-04 17:22:00</td>\n",
       "      <td>17</td>\n",
       "      <td>4</td>\n",
       "      <td>1st Week</td>\n",
       "      <td>1</td>\n",
       "      <td>Q1</td>\n",
       "      <td>2015</td>\n",
       "    </tr>\n",
       "    <tr>\n",
       "      <th>99995</th>\n",
       "      <td>T099996</td>\n",
       "      <td>2015-01-17 21:09:00</td>\n",
       "      <td>21</td>\n",
       "      <td>17</td>\n",
       "      <td>3rd Week</td>\n",
       "      <td>1</td>\n",
       "      <td>Q1</td>\n",
       "      <td>2015</td>\n",
       "    </tr>\n",
       "    <tr>\n",
       "      <th>99996</th>\n",
       "      <td>T099997</td>\n",
       "      <td>2020-01-23 14:42:00</td>\n",
       "      <td>14</td>\n",
       "      <td>23</td>\n",
       "      <td>4th Week</td>\n",
       "      <td>1</td>\n",
       "      <td>Q1</td>\n",
       "      <td>2020</td>\n",
       "    </tr>\n",
       "    <tr>\n",
       "      <th>99997</th>\n",
       "      <td>T099998</td>\n",
       "      <td>2015-10-31 13:52:00</td>\n",
       "      <td>13</td>\n",
       "      <td>31</td>\n",
       "      <td>4th Week</td>\n",
       "      <td>10</td>\n",
       "      <td>Q4</td>\n",
       "      <td>2015</td>\n",
       "    </tr>\n",
       "    <tr>\n",
       "      <th>99998</th>\n",
       "      <td>T099999</td>\n",
       "      <td>2017-06-08 08:59:00</td>\n",
       "      <td>8</td>\n",
       "      <td>8</td>\n",
       "      <td>2nd Week</td>\n",
       "      <td>6</td>\n",
       "      <td>Q2</td>\n",
       "      <td>2017</td>\n",
       "    </tr>\n",
       "  </tbody>\n",
       "</table>\n",
       "<p>99999 rows × 8 columns</p>\n",
       "</div>"
      ],
      "text/plain": [
       "      time_key                date  hour  day      week  month quarter  year\n",
       "0       T00001 2017-05-20 14:56:00    14   20  3rd Week      5      Q2  2017\n",
       "1       T00002 2015-01-30 22:14:00    22   30  4th Week      1      Q1  2015\n",
       "2       T00003 2020-03-14 02:34:00     2   14  2nd Week      3      Q1  2020\n",
       "3       T00004 2018-04-27 12:19:00    12   27  4th Week      4      Q2  2018\n",
       "4       T00005 2018-04-14 10:43:00    10   14  2nd Week      4      Q2  2018\n",
       "...        ...                 ...   ...  ...       ...    ...     ...   ...\n",
       "99994  T099995 2015-01-04 17:22:00    17    4  1st Week      1      Q1  2015\n",
       "99995  T099996 2015-01-17 21:09:00    21   17  3rd Week      1      Q1  2015\n",
       "99996  T099997 2020-01-23 14:42:00    14   23  4th Week      1      Q1  2020\n",
       "99997  T099998 2015-10-31 13:52:00    13   31  4th Week     10      Q4  2015\n",
       "99998  T099999 2017-06-08 08:59:00     8    8  2nd Week      6      Q2  2017\n",
       "\n",
       "[99999 rows x 8 columns]"
      ]
     },
     "execution_count": 23,
     "metadata": {},
     "output_type": "execute_result"
    }
   ],
   "source": [
    "time_dim['date'] = time_dim['date'].astype('datetime64[ns]')\n",
    "time_dim.dtypes\n",
    "time_dim"
   ]
  },
  {
   "cell_type": "code",
   "execution_count": 24,
   "id": "30c32876",
   "metadata": {},
   "outputs": [
    {
     "data": {
      "text/plain": [
       "payment_key       object\n",
       "coustomer_key     object\n",
       "time_key          object\n",
       "item_key          object\n",
       "store_key         object\n",
       "quantity           int64\n",
       "unit              object\n",
       "unit_price       float64\n",
       "total_price      float64\n",
       "dtype: object"
      ]
     },
     "execution_count": 24,
     "metadata": {},
     "output_type": "execute_result"
    }
   ],
   "source": [
    "fact_table['unit_price'] = pd.to_numeric(fact_table['unit_price'])\n",
    "fact_table['total_price'] = pd.to_numeric(fact_table['total_price'])\n",
    "fact_table.dtypes"
   ]
  },
  {
   "cell_type": "markdown",
   "id": "287257e3",
   "metadata": {},
   "source": [
    "# Connect to Database"
   ]
  },
  {
   "cell_type": "code",
   "execution_count": 27,
   "id": "6bf44e13",
   "metadata": {},
   "outputs": [],
   "source": [
    "class PostgresConnection(object):\n",
    "    def __init__(self):\n",
    "        self.connection = psycopg2.connect(database=\"ecomdb\",\n",
    "                                           user = \"postgres\",\n",
    "                                           password = \"1234\",\n",
    "                                           host = \"localhost\",\n",
    "                                           port = \"5432\")\n",
    "\n",
    "    def getConnection(self):\n",
    "        print(\"Connection to DB established!\")\n",
    "        return self.connection"
   ]
  },
  {
   "cell_type": "code",
   "execution_count": 28,
   "id": "6d28f49b",
   "metadata": {},
   "outputs": [
    {
     "name": "stdout",
     "output_type": "stream",
     "text": [
      "Connection to DB established!\n"
     ]
    }
   ],
   "source": [
    "con = PostgresConnection().getConnection()"
   ]
  },
  {
   "cell_type": "markdown",
   "id": "16c8fc16",
   "metadata": {},
   "source": [
    "# Insert Data into Tables"
   ]
  },
  {
   "cell_type": "code",
   "execution_count": 29,
   "id": "bced5a73",
   "metadata": {},
   "outputs": [
    {
     "name": "stdout",
     "output_type": "stream",
     "text": [
      "Connection to DB established!\n"
     ]
    }
   ],
   "source": [
    "con = PostgresConnection().getConnection()\n",
    "insert_stmt = \"INSERT INTO ecom_schema.trans_dim(payment_key, trans_type, bank_name)\" \\\n",
    "            \" VALUES (%s, %s, %s)\"\n",
    "cur = con.cursor()\n",
    "psycopg2.extras.execute_batch(cur, insert_stmt, transaction_dim.values)\n",
    "con.commit()\n",
    "cur.close()"
   ]
  },
  {
   "cell_type": "code",
   "execution_count": 30,
   "id": "fd0631d4",
   "metadata": {},
   "outputs": [
    {
     "name": "stdout",
     "output_type": "stream",
     "text": [
      "Connection to DB established!\n"
     ]
    }
   ],
   "source": [
    "con = PostgresConnection().getConnection()\n",
    "insert_stmt = \"INSERT INTO ecom_schema.store_dim( store_key, division, district, upazila) VALUES (%s, %s, %s, %s);\"\n",
    "cur = con.cursor()\n",
    "psycopg2.extras.execute_batch(cur, insert_stmt, store_dim.values)\n",
    "con.commit()\n",
    "cur.close()"
   ]
  },
  {
   "cell_type": "code",
   "execution_count": 31,
   "id": "1f6da5f8",
   "metadata": {},
   "outputs": [
    {
     "name": "stdout",
     "output_type": "stream",
     "text": [
      "Connection to DB established!\n"
     ]
    }
   ],
   "source": [
    "con = PostgresConnection().getConnection()\n",
    "insert_stmt = \"INSERT INTO ecom_schema.item_dim(item_key, item_name, \\\"desc\\\", unit_price, man_country, supplier, unit) VALUES (%s, %s, %s, %s, %s, %s, %s);\"\n",
    "\n",
    "cur = con.cursor()\n",
    "psycopg2.extras.execute_batch(cur, insert_stmt, item_dim.values)\n",
    "con.commit()\n",
    "cur.close()"
   ]
  },
  {
   "cell_type": "code",
   "execution_count": 37,
   "id": "fc81274b",
   "metadata": {},
   "outputs": [
    {
     "name": "stdout",
     "output_type": "stream",
     "text": [
      "Connection to DB established!\n"
     ]
    }
   ],
   "source": [
    "con = PostgresConnection().getConnection()\n",
    "insert_stmt = \"INSERT INTO ecom_schema.coustomer_dim(coustomer_key, name, contact_no, nid)VALUES (%s, %s, %s, %s);\"\n",
    "cur = con.cursor()\n",
    "psycopg2.extras.execute_batch(cur, insert_stmt, customer_dim.values)\n",
    "con.commit()\n",
    "cur.close()"
   ]
  },
  {
   "cell_type": "code",
   "execution_count": 38,
   "id": "3b6ace07",
   "metadata": {},
   "outputs": [
    {
     "name": "stdout",
     "output_type": "stream",
     "text": [
      "Connection to DB established!\n"
     ]
    }
   ],
   "source": [
    "con = PostgresConnection().getConnection()\n",
    "insert_stmt = \"INSERT INTO ecom_schema.time_dim(time_key, date, hour, day, week, month, quarter, year)VALUES (%s, %s, %s, %s, %s, %s, %s, %s);\"\n",
    "cur = con.cursor()\n",
    "psycopg2.extras.execute_batch(cur, insert_stmt, time_dim.values)\n",
    "con.commit()\n",
    "cur.close()"
   ]
  },
  {
   "cell_type": "code",
   "execution_count": null,
   "id": "bc0a050a",
   "metadata": {},
   "outputs": [],
   "source": [
    "# def insert_fact_table(self, values):\n",
    "#         insert_stmt = \"INSERT INTO ecom_schema.fact_table(payment_key, coustomer_key, time_key, item_key, store_key, quantity, unit, unit_price, total_price)VALUES (%s, %s, %s, %s, %s, %s, %s, %s, %s) ON CONFLICT DO NOTHING;\"\n",
    "#         with tqdm(total=len(values)) as pbar:\n",
    "#             psycopg2.extras.execute_batch(self.cur, insert_stmt, values, page_size=1000)\n",
    "#             pbar.update(len(values))\n",
    "#         print(f\"{len(values)} rows inserted into fact_table\")"
   ]
  },
  {
   "cell_type": "code",
   "execution_count": 72,
   "id": "b2aa022d",
   "metadata": {},
   "outputs": [
    {
     "name": "stdout",
     "output_type": "stream",
     "text": [
      "Connection to DB established!\n"
     ]
    }
   ],
   "source": [
    "con = PostgresConnection().getConnection()\n",
    "insert_stmt = \"INSERT INTO ecom_schema.fact_table(payment_key, coustomer_key, time_key, item_key, store_key, quantity, unit, unit_price, total_price)VALUES (%s, %s, %s, %s, %s, %s, %s, %s, %s) ON CONFLICT DO NOTHING;\"\n",
    "cur = con.cursor()\n",
    "psycopg2.extras.execute_batch(cur, insert_stmt, fact_table.values)\n",
    "con.commit()\n",
    "cur.close()"
   ]
  },
  {
   "cell_type": "markdown",
   "id": "ae38c825",
   "metadata": {},
   "source": [
    "# Task Details-1"
   ]
  },
  {
   "cell_type": "markdown",
   "id": "75f8d4e3",
   "metadata": {},
   "source": [
    "#### Q1: Find the division/district/year/month wise total_sale_price joining fact table and respective dimension table"
   ]
  },
  {
   "cell_type": "code",
   "execution_count": 32,
   "id": "ac3038a9",
   "metadata": {},
   "outputs": [
    {
     "name": "stdout",
     "output_type": "stream",
     "text": [
      "Connection to DB established!\n",
      "[('BARISAL', Decimal('638101.00')), ('CHITTAGONG', Decimal('1665138.00')), ('DHAKA', Decimal('3440676.25')), ('KHULNA', Decimal('952049.75')), ('RAJSHAHI', Decimal('1041201.25')), ('RANGPUR', Decimal('721057.50')), ('SYLHET', Decimal('465256.75'))]\n"
     ]
    }
   ],
   "source": [
    "con = PostgresConnection().getConnection()\n",
    "cur = con.cursor()\n",
    "try:\n",
    "    cur.execute(\"BEGIN\")\n",
    "    select_stmt = \"SELECT s.division, SUM(CAST(t.total_price AS DECIMAL)) \" \\\n",
    "                  \"FROM ecom_schema.fact_table t \" \\\n",
    "                  \"JOIN ecom_schema.store_dim s on s.store_key=t.store_key \" \\\n",
    "                    \"JOIN ecom_schema.time_dim tim on tim.time_key=t.time_key \" \\\n",
    "                    \"WHERE tim.month=12 \" \\\n",
    "                    \"GROUP BY s.division \" \\\n",
    "                    \"ORDER BY s.division\"\n",
    "    cur.execute(select_stmt)\n",
    "    records = cur.fetchall()\n",
    "    cur.execute(\"COMMIT\")\n",
    "except:\n",
    "    cur.execute(\"ROLLBACK\")\n",
    "    raise\n",
    "\n",
    "print(records)\n"
   ]
  },
  {
   "cell_type": "code",
   "execution_count": 33,
   "id": "806ac3b7",
   "metadata": {},
   "outputs": [],
   "source": [
    "df = pd.DataFrame(list(records), columns=['division', 'sales'])"
   ]
  },
  {
   "cell_type": "code",
   "execution_count": 34,
   "id": "a5e294c7",
   "metadata": {},
   "outputs": [
    {
     "name": "stdout",
     "output_type": "stream",
     "text": [
      "     division       sales\n",
      "0     BARISAL   638101.00\n",
      "1  CHITTAGONG  1665138.00\n",
      "2       DHAKA  3440676.25\n",
      "3      KHULNA   952049.75\n",
      "4    RAJSHAHI  1041201.25\n",
      "5     RANGPUR   721057.50\n",
      "6      SYLHET   465256.75\n"
     ]
    }
   ],
   "source": [
    "print(df)"
   ]
  },
  {
   "cell_type": "markdown",
   "id": "962344e2",
   "metadata": {},
   "source": [
    "### Q2: Find the customer/bank/transaction(cash/online) wise total_sale_price joining fact table and respective dimension table "
   ]
  },
  {
   "cell_type": "code",
   "execution_count": 37,
   "id": "986b0889",
   "metadata": {},
   "outputs": [
    {
     "name": "stdout",
     "output_type": "stream",
     "text": [
      "Connection to DB established!\n",
      "('BARISAL', Decimal('638101.00'))\n",
      "('CHITTAGONG', Decimal('1665138.00'))\n",
      "('DHAKA', Decimal('3440676.25'))\n",
      "('KHULNA', Decimal('952049.75'))\n",
      "('RAJSHAHI', Decimal('1041201.25'))\n",
      "('RANGPUR', Decimal('721057.50'))\n",
      "('SYLHET', Decimal('465256.75'))\n"
     ]
    }
   ],
   "source": [
    "con = PostgresConnection().getConnection()\n",
    "cur = con.cursor()\n",
    "\n",
    "try:\n",
    "\n",
    "    # begin a transaction\n",
    "    cur.execute(\"BEGIN\")\n",
    "\n",
    "    # execute the query\n",
    "    select_stmt = \"\"\"\n",
    "    SELECT\n",
    "        bank_dim.name AS bank_name,\n",
    "        customer_dim.customer_name,\n",
    "        transaction_type_dim.trans_type AS transaction_type,\n",
    "        SUM(CAST(fact_table.total_price AS INTEGER)) AS total_sale_price\n",
    "    FROM\n",
    "        fact_table\n",
    "        JOIN bank_dim ON fact_table.coustomer_key = bank_dim.coustomer_key\n",
    "        JOIN customer_dim ON fact_table.coustomer_key = customer_dim.customer_id\n",
    "        JOIN transaction_type_dim ON fact_table.payment_key = transaction_type_dim.payment_key\n",
    "    GROUP BY\n",
    "        bank_dim.name,\n",
    "        customer_dim.customer_name,\n",
    "        transaction_type_dim.trans_type\n",
    "    ORDER BY\n",
    "        bank_dim.name,\n",
    "        customer_dim.customer_name,\n",
    "        transaction_type_dim.trans_type\n",
    "    \"\"\"\n",
    "\n",
    "    cur.execute(select_stmt)\n",
    "\n",
    "    # fetch the results\n",
    "    records = cur.fetchall()\n",
    "\n",
    "    # commit the transaction\n",
    "    cur.execute(\"COMMIT\")\n",
    "\n",
    "\n",
    "except:\n",
    "        \n",
    "     # print the results\n",
    "    for record in records:\n",
    "        print(record)\n",
    "\n",
    "    # close the cursor and connection\n",
    "    cur.close()\n",
    "    con.close()\n"
   ]
  },
  {
   "cell_type": "markdown",
   "id": "3f6444de",
   "metadata": {},
   "source": [
    "### Q3: Find the total sales in Barishal"
   ]
  },
  {
   "cell_type": "code",
   "execution_count": 38,
   "id": "d2bcb6ec",
   "metadata": {},
   "outputs": [
    {
     "name": "stdout",
     "output_type": "stream",
     "text": [
      "Connection to DB established!\n",
      "Total sales in Barishal: []\n"
     ]
    }
   ],
   "source": [
    "con = PostgresConnection().getConnection()\n",
    "cur = con.cursor()\n",
    "\n",
    "# execute the query\n",
    "try:\n",
    "    cur.execute(\"BEGIN\")\n",
    "    select_stmt = \"SELECT s.district, SUM(CAST(t.total_price AS DECIMAL)) \" \\\n",
    "                  \"FROM ecom_schema.fact_table t \" \\\n",
    "                  \"JOIN ecom_schema.store_dim s ON s.store_key = t.store_key \" \\\n",
    "                  \"JOIN ecom_schema.time_dim tim ON tim.time_key = t.time_key \" \\\n",
    "                  \"WHERE s.district = 'Barisal' \" \\\n",
    "                  \"GROUP BY s.district\"\n",
    "    cur.execute(select_stmt)\n",
    "    records = cur.fetchall()\n",
    "    cur.execute(\"COMMIT\")\n",
    "except:\n",
    "    cur.execute(\"ROLLBACK\")\n",
    "    raise\n",
    "\n",
    "# print the results\n",
    "print(f\"Total sales in Barishal: {records}\")\n",
    "\n",
    "# close the cursor and connection\n",
    "cur.close()\n",
    "con.close()\n"
   ]
  },
  {
   "cell_type": "markdown",
   "id": "50a6bab3",
   "metadata": {},
   "source": [
    "Observation: There is no sales in Barishal"
   ]
  },
  {
   "cell_type": "markdown",
   "id": "b393d862",
   "metadata": {},
   "source": [
    "### Q4: Total sales in 2015"
   ]
  },
  {
   "cell_type": "code",
   "execution_count": 39,
   "id": "d9f039ff",
   "metadata": {},
   "outputs": [
    {
     "name": "stdout",
     "output_type": "stream",
     "text": [
      "Connection to DB established!\n",
      "Total sales in 2015: [(Decimal('15095720.25'),)]\n"
     ]
    }
   ],
   "source": [
    "con = PostgresConnection().getConnection()\n",
    "\n",
    "cur = con.cursor()\n",
    "\n",
    "# execute the query\n",
    "try:\n",
    "    cur.execute(\"BEGIN\")\n",
    "    select_stmt = \"SELECT SUM(f.total_price) as total_sale_price \" \\\n",
    "                  \"FROM ecom_schema.fact_table f \" \\\n",
    "                  \"JOIN ecom_schema.time_dim t ON f.time_key = t.time_key \" \\\n",
    "                  \"WHERE t.year = 2015\"\n",
    "    cur.execute(select_stmt)\n",
    "    records = cur.fetchall()\n",
    "    cur.execute(\"COMMIT\")\n",
    "except:\n",
    "    cur.execute(\"ROLLBACK\")\n",
    "    raise\n",
    "\n",
    "# print the results\n",
    "print(f\"Total sales in 2015: {records}\")\n",
    "\n",
    "# close the cursor and connection\n",
    "cur.close()\n",
    "con.close()\n"
   ]
  },
  {
   "cell_type": "markdown",
   "id": "fd2f61c9",
   "metadata": {},
   "source": [
    "### Q5: Total sales of Barishal in 2015"
   ]
  },
  {
   "cell_type": "code",
   "execution_count": 40,
   "id": "5df878a3",
   "metadata": {},
   "outputs": [
    {
     "name": "stdout",
     "output_type": "stream",
     "text": [
      "Connection to DB established!\n",
      "Total sales of Barishal in 2015: [(None,)]\n"
     ]
    }
   ],
   "source": [
    "con = PostgresConnection().getConnection()\n",
    "cur = con.cursor()\n",
    "\n",
    "# execute the query\n",
    "try:\n",
    "    cur.execute(\"BEGIN\")\n",
    "    select_stmt = \"SELECT SUM(f.total_price) as total_sale_price \" \\\n",
    "                  \"FROM ecom_schema.fact_table f \" \\\n",
    "                  \"JOIN ecom_schema.time_dim t ON f.time_key = t.time_key \" \\\n",
    "                  \"JOIN ecom_schema.store_dim s ON f.store_key = s.store_key \" \\\n",
    "                  \"WHERE s.district = 'Barisal' AND t.year = 2015\"\n",
    "    cur.execute(select_stmt)\n",
    "    records = cur.fetchall()\n",
    "    cur.execute(\"COMMIT\")\n",
    "except:\n",
    "    cur.execute(\"ROLLBACK\")\n",
    "    raise\n",
    "\n",
    "# print the results\n",
    "print(f\"Total sales of Barishal in 2015: {records}\")\n",
    "\n",
    "# close the cursor and connection\n",
    "cur.close()\n",
    "con.close()\n"
   ]
  },
  {
   "cell_type": "markdown",
   "id": "bc05566d",
   "metadata": {},
   "source": [
    "#### Q6: For each store(item supplier), what are the top three products offered that are most often purchased?\n",
    "\n",
    "    S1-> item1 -> quantity_sales\n",
    "\n",
    "    S1-> item2 -> quantity_sales\n",
    "\n",
    "    S1-> item3 -> quantity_sales"
   ]
  },
  {
   "cell_type": "code",
   "execution_count": 46,
   "id": "1bbb336e",
   "metadata": {},
   "outputs": [
    {
     "name": "stdout",
     "output_type": "stream",
     "text": [
      "Connection to DB established!\n",
      "   Store                                 Item  Quantity Sales\n",
      "0  S0001                   Pepsi - 12 oz cans              92\n",
      "1  S0001  Muscle Milk Protein Shake Van. 11oz              90\n",
      "2  S0001     Hefty Supreme Foam Plates 6 inch              78\n"
     ]
    }
   ],
   "source": [
    "con = PostgresConnection().getConnection()\n",
    "cur = con.cursor()\n",
    "\n",
    "# Write the query\n",
    "query = \"\"\"\n",
    "\n",
    "SELECT store_dim.store_key AS Store, \n",
    "       item_dim.item_name AS Item, \n",
    "       SUM(fact_table.quantity) AS Quantity_Sold\n",
    "FROM ecom_schema.fact_table\n",
    "JOIN ecom_schema.store_dim ON fact_table.store_key = store_dim.store_key\n",
    "JOIN ecom_schema.item_dim ON fact_table.item_key = item_dim.item_key\n",
    "GROUP BY store_dim.store_key, item_dim.item_name\n",
    "ORDER BY store_dim.store_key, SUM(fact_table.quantity) DESC\n",
    "LIMIT 3;\n",
    "\n",
    "\n",
    "\"\"\"\n",
    "\n",
    "\n",
    "# Execute the query\n",
    "cur.execute(query)\n",
    "\n",
    "# Fetch the results as a Pandas dataframe\n",
    "results_df = pd.DataFrame(cur.fetchall(), columns=['Store', 'Item', 'Quantity Sales'])\n",
    "\n",
    "# Print the dataframe\n",
    "print(results_df)\n",
    "\n",
    "# Close the cursor and connection\n",
    "cur.close()\n",
    "con.close()"
   ]
  },
  {
   "cell_type": "markdown",
   "id": "8e442ecf",
   "metadata": {},
   "source": [
    "This query joins the fact table, store dimension table, and item dimension table to get the store, item name, and quantity sold for each item. It groups the results by store and item name, and sorts them by store and quantity sold in descending order. Finally, it limits the results to the top 3 selling items for each store."
   ]
  },
  {
   "cell_type": "markdown",
   "id": "677607e3",
   "metadata": {},
   "source": [
    "#### Q7: What products have been sold through card or mobile since X days?\n",
    "\n",
    "    input: X = 5 days\n",
    "\n",
    "    output: [item1, item2, item3, ...........]"
   ]
  },
  {
   "cell_type": "code",
   "execution_count": 50,
   "id": "c1b287c2",
   "metadata": {},
   "outputs": [
    {
     "name": "stdout",
     "output_type": "stream",
     "text": [
      "Connection to DB established!\n",
      "[]\n"
     ]
    }
   ],
   "source": [
    "con = PostgresConnection().getConnection()\n",
    "cur = con.cursor()\n",
    "\n",
    "# Set the number of days\n",
    "X_days = 5\n",
    "\n",
    "# Write the query\n",
    "query = f\"\"\"\n",
    "SELECT DISTINCT ecom_schema.item_dim.item_name\n",
    "FROM ecom_schema.fact_table\n",
    "JOIN ecom_schema.time_dim ON ecom_schema.fact_table.time_key = ecom_schema.time_dim.time_key\n",
    "JOIN ecom_schema.trans_dim ON ecom_schema.fact_table.payment_key = ecom_schema.trans_dim.payment_key\n",
    "JOIN ecom_schema.item_dim ON ecom_schema.fact_table.item_key = ecom_schema.item_dim.item_key\n",
    "WHERE (ecom_schema.trans_dim.trans_type = 'card' OR ecom_schema.trans_dim.trans_type = 'mobile')\n",
    "    AND ecom_schema.time_dim.date >= current_date - INTERVAL '{X_days} days'\n",
    "\"\"\"\n",
    "\n",
    "# Execute the query\n",
    "cur.execute(query)\n",
    "\n",
    "# Fetch the results\n",
    "results = cur.fetchall()\n",
    "\n",
    "# Print the results\n",
    "print([result[0] for result in results])\n",
    "\n",
    "# Close the cursor and connection\n",
    "cur.close()\n",
    "con.close()"
   ]
  },
  {
   "cell_type": "markdown",
   "id": "8e1625f1",
   "metadata": {},
   "source": [
    "The output of the query is showing an empty list [], it means that there were no products sold through card or mobile in the last X days in dataset."
   ]
  },
  {
   "cell_type": "markdown",
   "id": "0d642b85",
   "metadata": {},
   "source": [
    "#### Q8: What season(quarter) is the worst for each product item? As example,\n",
    "\n",
    "       item1-> q1\n",
    "\n",
    "       item2-> q2"
   ]
  },
  {
   "cell_type": "code",
   "execution_count": 40,
   "id": "38286b53",
   "metadata": {},
   "outputs": [
    {
     "name": "stdout",
     "output_type": "stream",
     "text": [
      "Connection to DB established!\n",
      "                                      Item Worst Quarter\n",
      "0          100% Juice Box Variety 6.75 oz             Q1\n",
      "1               A&W Root Beer - 12 oz cans            Q2\n",
      "2          A&W Root Beer Diet - 12 oz cans            Q4\n",
      "3                     Advil 2 pill packets            Q1\n",
      "4            All Purpose Cleaner 409 Spray            Q1\n",
      "..                                     ...           ...\n",
      "254        Welch's 100% Juice Variety10 oz            Q2\n",
      "255     Wint O Green LifeSavers Sugar Free            Q1\n",
      "256        Wonderful Pistachios (in shell)            Q1\n",
      "257  Yoplait Original Yogurt Variety Pack             Q1\n",
      "258            Zoo Animal Cookies/Crackers            Q1\n",
      "\n",
      "[259 rows x 2 columns]\n"
     ]
    }
   ],
   "source": [
    "con = PostgresConnection().getConnection()\n",
    "cur = con.cursor()\n",
    "\n",
    "# Write the query\n",
    "query = \"\"\"\n",
    "SELECT ecom_schema.item_dim.item_name, ecom_schema.time_dim.quarter,\n",
    "    SUM(ecom_schema.fact_table.quantity) AS quantity_sales\n",
    "FROM ecom_schema.fact_table\n",
    "JOIN ecom_schema.item_dim ON ecom_schema.fact_table.item_key = ecom_schema.item_dim.item_key\n",
    "JOIN ecom_schema.time_dim ON ecom_schema.fact_table.time_key = ecom_schema.time_dim.time_key\n",
    "GROUP BY ROLLUP(ecom_schema.item_dim.item_name, ecom_schema.time_dim.quarter)\n",
    "HAVING ecom_schema.item_dim.item_name IS NOT NULL AND ecom_schema.time_dim.quarter IS NOT NULL\n",
    "ORDER BY ecom_schema.item_dim.item_name, SUM(ecom_schema.fact_table.quantity) ASC\n",
    "\"\"\"\n",
    "\n",
    "# Execute the query\n",
    "cur.execute(query)\n",
    "\n",
    "# Fetch the results as a Pandas dataframe\n",
    "results_df = pd.DataFrame(cur.fetchall(), columns=['Item', 'Quarter', 'Quantity Sales'])\n",
    "\n",
    "# Create a dictionary to store the worst quarter for each product\n",
    "worst_quarters = {}\n",
    "\n",
    "# Loop through each item in the dataframe\n",
    "for index, row in results_df.iterrows():\n",
    "    item = row['Item']\n",
    "    quarter = row['Quarter']\n",
    "    sales = row['Quantity Sales']\n",
    "    \n",
    "    # If the item is not in the dictionary yet, add it with the current quarter as the worst\n",
    "    if item not in worst_quarters:\n",
    "        worst_quarters[item] = quarter\n",
    "    \n",
    "    # If the item is already in the dictionary, update the worst quarter if the current sales is lower\n",
    "    else:\n",
    "        if sales < results_df.loc[(results_df['Item'] == item) & (results_df['Quarter'] == worst_quarters[item]), 'Quantity Sales'].values[0]:\n",
    "            worst_quarters[item] = quarter\n",
    "\n",
    "# Create a new dataframe to store the worst quarters for each product\n",
    "worst_quarters_df = pd.DataFrame(worst_quarters.items(), columns=['Item', 'Worst Quarter'])\n",
    "\n",
    "# Print the dataframe\n",
    "print(worst_quarters_df)\n",
    "\n",
    "# Close the cursor and connection\n",
    "cur.close()\n",
    "con.close()"
   ]
  },
  {
   "cell_type": "code",
   "execution_count": null,
   "id": "3731e473",
   "metadata": {},
   "outputs": [],
   "source": []
  },
  {
   "cell_type": "markdown",
   "id": "b180e80a",
   "metadata": {},
   "source": [
    "#### Q9: Break down the total sales of items geographically (division-wise).\n",
    "\n",
    "     item1-> division1->total_sales\n",
    "\n",
    "     item1-> division2->total_sales"
   ]
  },
  {
   "cell_type": "code",
   "execution_count": 41,
   "id": "24fab059",
   "metadata": {},
   "outputs": [
    {
     "name": "stdout",
     "output_type": "stream",
     "text": [
      "Connection to DB established!\n",
      "                                 Item    Division Total Sales\n",
      "0     100% Juice Box Variety 6.75 oz        DHAKA   141195.00\n",
      "1     100% Juice Box Variety 6.75 oz   CHITTAGONG    64950.00\n",
      "2     100% Juice Box Variety 6.75 oz     RAJSHAHI    38730.00\n",
      "3     100% Juice Box Variety 6.75 oz       KHULNA    37755.00\n",
      "4     100% Juice Box Variety 6.75 oz      RANGPUR    26685.00\n",
      "...                               ...         ...         ...\n",
      "1808      Zoo Animal Cookies/Crackers    RAJSHAHI    37100.00\n",
      "1809      Zoo Animal Cookies/Crackers      KHULNA    35434.00\n",
      "1810      Zoo Animal Cookies/Crackers     RANGPUR    25186.00\n",
      "1811      Zoo Animal Cookies/Crackers     BARISAL    24178.00\n",
      "1812      Zoo Animal Cookies/Crackers      SYLHET    14728.00\n",
      "\n",
      "[1813 rows x 3 columns]\n"
     ]
    }
   ],
   "source": [
    "con = PostgresConnection().getConnection()\n",
    "cur = con.cursor()\n",
    "\n",
    "# Write the query\n",
    "query = \"\"\"\n",
    "SELECT ecom_schema.item_dim.item_name, ecom_schema.store_dim.division, SUM(ecom_schema.fact_table.total_price) AS total_sales\n",
    "FROM ecom_schema.fact_table\n",
    "JOIN ecom_schema.item_dim ON ecom_schema.fact_table.item_key = ecom_schema.item_dim.item_key\n",
    "JOIN ecom_schema.store_dim ON ecom_schema.fact_table.store_key = ecom_schema.store_dim.store_key\n",
    "GROUP BY ROLLUP(ecom_schema.item_dim.item_name, ecom_schema.store_dim.division)\n",
    "HAVING ecom_schema.item_dim.item_name IS NOT NULL AND ecom_schema.store_dim.division IS NOT NULL\n",
    "ORDER BY ecom_schema.item_dim.item_name, SUM(ecom_schema.fact_table.total_price) DESC\n",
    "\"\"\"\n",
    "\n",
    "# Execute the query\n",
    "cur.execute(query)\n",
    "\n",
    "# Fetch the results as a Pandas dataframe\n",
    "results_df = pd.DataFrame(cur.fetchall(), columns=['Item', 'Division', 'Total Sales'])\n",
    "\n",
    "# Print the dataframe\n",
    "print(results_df)\n",
    "\n",
    "# Close the cursor and connection\n",
    "cur.close()\n",
    "con.close()"
   ]
  },
  {
   "cell_type": "code",
   "execution_count": null,
   "id": "0e958ccc",
   "metadata": {},
   "outputs": [],
   "source": []
  },
  {
   "cell_type": "markdown",
   "id": "36ea217a",
   "metadata": {},
   "source": [
    "#### Q10: What are the average sales of products sales per store monthly?\n",
    "\n",
    "    S1->M1-> avg_sales\n",
    "\n",
    "    s1-> M2 -> avg_sales\n",
    "\n",
    " "
   ]
  },
  {
   "cell_type": "code",
   "execution_count": 42,
   "id": "7127d387",
   "metadata": {},
   "outputs": [
    {
     "name": "stdout",
     "output_type": "stream",
     "text": [
      "Connection to DB established!\n",
      "      Store  Month             Avg Sales\n",
      "0     S0001      1   97.7543103448275862\n",
      "1     S0001      2  100.5776699029126214\n",
      "2     S0001      3  109.4158878504672897\n",
      "3     S0001      4   98.8805309734513274\n",
      "4     S0001      5   99.5245535714285714\n",
      "...     ...    ...                   ...\n",
      "8707  S0099      8   96.2933673469387755\n",
      "8708  S0099      9  114.1365740740740741\n",
      "8709  S0099     10  102.7897727272727273\n",
      "8710  S0099     11  107.3810679611650485\n",
      "8711  S0099     12  102.9014423076923077\n",
      "\n",
      "[8712 rows x 3 columns]\n"
     ]
    }
   ],
   "source": [
    "con = PostgresConnection().getConnection()\n",
    "cur = con.cursor()\n",
    "\n",
    "# Write the query\n",
    "query = \"\"\"\n",
    "SELECT ecom_schema.store_dim.store_key, ecom_schema.time_dim.month, AVG(ecom_schema.fact_table.total_price) AS avg_sales\n",
    "FROM ecom_schema.fact_table\n",
    "JOIN ecom_schema.store_dim ON ecom_schema.fact_table.store_key = ecom_schema.store_dim.store_key\n",
    "JOIN ecom_schema.time_dim ON ecom_schema.fact_table.time_key = ecom_schema.time_dim.time_key\n",
    "GROUP BY ROLLUP(ecom_schema.store_dim.store_key, ecom_schema.time_dim.month)\n",
    "HAVING ecom_schema.store_dim.store_key IS NOT NULL AND ecom_schema.time_dim.month IS NOT NULL\n",
    "ORDER BY ecom_schema.store_dim.store_key, ecom_schema.time_dim.month\n",
    "\"\"\"\n",
    "\n",
    "# Execute the query\n",
    "cur.execute(query)\n",
    "\n",
    "# Fetch the results as a Pandas dataframe\n",
    "results_df = pd.DataFrame(cur.fetchall(), columns=['Store', 'Month', 'Avg Sales'])\n",
    "\n",
    "# Print the dataframe\n",
    "print(results_df)\n",
    "\n",
    "# Close the cursor and connection\n",
    "cur.close()\n",
    "con.close()"
   ]
  },
  {
   "cell_type": "code",
   "execution_count": null,
   "id": "ff5064ab",
   "metadata": {},
   "outputs": [],
   "source": []
  },
  {
   "cell_type": "markdown",
   "id": "6339a525",
   "metadata": {},
   "source": [
    "# Assignment on Data warehouse"
   ]
  },
  {
   "cell_type": "markdown",
   "id": "df7869d9",
   "metadata": {},
   "source": [
    "Customer and time dimensional financial analytics. 2115111%5 =1 NOW add 1 with the result, so we get: 1+1=2, however, my task is 2 no, Customer and time dimensional financial analytics."
   ]
  },
  {
   "cell_type": "markdown",
   "id": "7972f8ef",
   "metadata": {},
   "source": [
    "# Analytics 1- Total revenue by year and top customers by spent"
   ]
  },
  {
   "cell_type": "code",
   "execution_count": 77,
   "id": "f60c4f4d",
   "metadata": {},
   "outputs": [
    {
     "name": "stdout",
     "output_type": "stream",
     "text": [
      "Connection to DB established!\n"
     ]
    },
    {
     "data": {
      "image/png": "[encoded data removed]",
      "text/plain": [
       "<Figure size 640x480 with 1 Axes>"
      ]
     },
     "metadata": {},
     "output_type": "display_data"
    },
    {
     "data": {
      "image/png": "[encoded data removed]",
      "text/plain": [
       "<Figure size 640x480 with 1 Axes>"
      ]
     },
     "metadata": {},
     "output_type": "display_data"
    }
   ],
   "source": [
    "import psycopg2\n",
    "import pandas as pd\n",
    "import matplotlib.pyplot as plt\n",
    "\n",
    "con = PostgresConnection().getConnection()\n",
    "cur = con.cursor()\n",
    "\n",
    "cur.execute(\"\"\"SELECT c.name, SUM(f.total_price) AS total_spent\n",
    "               FROM ecom_schema.fact_table f\n",
    "               INNER JOIN ecom_schema.coustomer_dim c\n",
    "               ON f.coustomer_key = c.coustomer_key\n",
    "               GROUP BY c.name\n",
    "               ORDER BY total_spent DESC\"\"\")\n",
    "result = cur.fetchall()\n",
    "cur.close()\n",
    "\n",
    "# Convert the result to a Pandas DataFrame\n",
    "df = pd.DataFrame(result, columns=['Customer Name', 'Total Spent'])\n",
    "\n",
    "# Plot the top 10 customers by total spent\n",
    "df.head(10).plot(kind='bar', x='Customer Name', y='Total Spent')\n",
    "plt.title('Top 10 Customers by Total Spent')\n",
    "plt.xlabel('Customer Name')\n",
    "plt.ylabel('Total Spent')\n",
    "plt.show()\n",
    "\n",
    "# Calculate the total revenue by year and plot the result\n",
    "cur = con.cursor()\n",
    "cur.execute(\"\"\"SELECT time_dim.year, SUM(fact_table.total_price) AS total_revenue\n",
    "               FROM ecom_schema.fact_table\n",
    "               INNER JOIN ecom_schema.time_dim\n",
    "               ON fact_table.time_key = time_dim.time_key\n",
    "               GROUP BY time_dim.year\"\"\")\n",
    "result = cur.fetchall()\n",
    "cur.close()\n",
    "\n",
    "# Convert the result to a Pandas DataFrame\n",
    "df = pd.DataFrame(result, columns=['Year', 'Total Revenue'])\n",
    "\n",
    "# Plot the total revenue by year\n",
    "df.plot(kind='bar', x='Year', y='Total Revenue')\n",
    "plt.title('Total Revenue by Year')\n",
    "plt.xlabel('Year')\n",
    "plt.ylabel('Total Revenue')\n",
    "plt.show()\n",
    "\n",
    "# Close the database connection\n",
    "con.close()\n"
   ]
  },
  {
   "cell_type": "markdown",
   "id": "a6520807",
   "metadata": {},
   "source": [
    "# Analytics 2- Total sales for each customer, broken down by month"
   ]
  },
  {
   "cell_type": "code",
   "execution_count": null,
   "id": "1419022f",
   "metadata": {},
   "outputs": [],
   "source": []
  },
  {
   "cell_type": "code",
   "execution_count": 78,
   "id": "9b42a674",
   "metadata": {},
   "outputs": [
    {
     "name": "stdout",
     "output_type": "stream",
     "text": [
      "Connection to DB established!\n",
      "   coustomer_key    month  total_sales\n",
      "0        C000136  2020-07           45\n",
      "1        C000616  2016-06          153\n",
      "2        C000849  2019-04           48\n",
      "3        C002110  2015-05           75\n",
      "4        C002529  2017-04           20\n",
      "5        C002764  2016-10           74\n",
      "6        C002814  2014-08           30\n",
      "7        C003128  2018-02          150\n",
      "8        C003131  2018-03          170\n",
      "9        C004163  2015-06          270\n",
      "10       C004333  2015-07          156\n",
      "11       C004337  2016-11          153\n",
      "12       C004437  2021-01           60\n",
      "13       C004506  2020-10           90\n",
      "14       C004510  2016-04           35\n",
      "15       C004635  2017-10           60\n",
      "16       C004785  2019-01           60\n",
      "17       C005138  2015-08           90\n",
      "18       C005695  2019-12           31\n",
      "19       C006430  2014-07           64\n",
      "20       C006599  2016-11           74\n",
      "21       C006607  2017-12          209\n",
      "22       C006613  2015-09          160\n",
      "23       C006654  2016-04          120\n",
      "24       C006673  2017-11            7\n",
      "25       C007044  2020-12           47\n",
      "26       C007048  2020-02          112\n",
      "27       C007170  2014-12          120\n",
      "28       C007261  2016-11          100\n",
      "29       C007305  2018-04           15\n",
      "30       C007465  2019-12          128\n",
      "31       C007507  2016-10           24\n",
      "32       C007574  2019-06          110\n",
      "33       C008525  2018-03          105\n",
      "34       C008597  2016-11          104\n",
      "35       C008728  2017-11           14\n",
      "36       C008967  2018-06           26\n",
      "37       C009083  2019-02           96\n",
      "38       C009102  2018-05          136\n"
     ]
    },
    {
     "name": "stderr",
     "output_type": "stream",
     "text": [
      "C:\\Users\\ACER\\AppData\\Local\\Temp\\ipykernel_8980\\3893865059.py:26: UserWarning: pandas only supports SQLAlchemy connectable (engine/connection) or database string URI or sqlite3 DBAPI2 connection. Other DBAPI2 objects are not tested. Please consider using SQLAlchemy.\n",
      "  df = pd.read_sql_query(sql, con)\n"
     ]
    }
   ],
   "source": [
    "import psycopg2\n",
    "import pandas as pd\n",
    "\n",
    "# establish a connection to the database\n",
    "con = PostgresConnection().getConnection()\n",
    "cur = con.cursor()\n",
    "# SQL query to calculate the total sales per month for each customer\n",
    "sql = \"\"\"\n",
    "    SELECT \n",
    "        c.coustomer_key, \n",
    "        to_char(t.date, 'YYYY-MM') AS month, \n",
    "        SUM(f.total_price) AS total_sales\n",
    "    FROM \n",
    "        ecom_schema.coustomer_dim c \n",
    "        JOIN ecom_schema.fact_table f ON c.coustomer_key = f.coustomer_key\n",
    "        JOIN ecom_schema.time_dim t ON f.time_key = t.time_key\n",
    "    GROUP BY \n",
    "        c.coustomer_key, \n",
    "        to_char(t.date, 'YYYY-MM')\n",
    "    ORDER BY \n",
    "        c.coustomer_key, \n",
    "        to_char(t.date, 'YYYY-MM')\n",
    "\"\"\"\n",
    "\n",
    "# execute the query and load the results into a Pandas dataframe\n",
    "df = pd.read_sql_query(sql, con)\n",
    "\n",
    "# close the database connection\n",
    "con.close()\n",
    "\n",
    "# display the results\n",
    "print(df)\n"
   ]
  },
  {
   "cell_type": "markdown",
   "id": "6be05d5e",
   "metadata": {},
   "source": [
    "# Analytics 3-  Total sales by month and year"
   ]
  },
  {
   "cell_type": "code",
   "execution_count": null,
   "id": "322c2cb4",
   "metadata": {},
   "outputs": [],
   "source": []
  },
  {
   "cell_type": "code",
   "execution_count": 82,
   "id": "3ad1317f",
   "metadata": {},
   "outputs": [
    {
     "name": "stdout",
     "output_type": "stream",
     "text": [
      "Connection to DB established!\n"
     ]
    },
    {
     "data": {
      "image/png": "[encoded data removed]",
      "text/plain": [
       "<Figure size 1000x600 with 1 Axes>"
      ]
     },
     "metadata": {},
     "output_type": "display_data"
    }
   ],
   "source": [
    "import psycopg2\n",
    "import pandas as pd\n",
    "import matplotlib.pyplot as plt\n",
    "\n",
    "# establish a connection to the database\n",
    "con = PostgresConnection().getConnection()\n",
    "# Calculate the average rating for each product category and plot the result\n",
    "cur = con.cursor()\n",
    "# Calculate the total sales by month and year\n",
    "cur.execute(\"\"\"SELECT time_dim.month, time_dim.year, SUM(fact_table.total_price) AS total_sales\n",
    "               FROM ecom_schema.fact_table\n",
    "               INNER JOIN ecom_schema.time_dim ON fact_table.time_key = time_dim.time_key\n",
    "               GROUP BY time_dim.month, time_dim.year\n",
    "               ORDER BY time_dim.year, time_dim.month\"\"\")\n",
    "result = cur.fetchall()\n",
    "\n",
    "# Convert the result to a Pandas DataFrame\n",
    "df = pd.DataFrame(result, columns=['Month', 'Year', 'Total Sales'])\n",
    "\n",
    "# Plot the total sales by month and year\n",
    "fig, ax = plt.subplots(figsize=(10,6))\n",
    "pivot_df = df.pivot(index='Month', columns='Year', values='Total Sales')\n",
    "pivot_df.plot(kind='bar', ax=ax)\n",
    "ax.set_title('Total Sales by Month and Year')\n",
    "ax.set_xlabel('Month')\n",
    "ax.set_ylabel('Total Sales')\n",
    "plt.show()\n",
    "\n",
    "# Close the database connection\n",
    "cur.close()\n",
    "con.close()"
   ]
  },
  {
   "cell_type": "code",
   "execution_count": null,
   "id": "b0a7cda3",
   "metadata": {},
   "outputs": [],
   "source": []
  }
 ],
 "metadata": {
  "kernelspec": {
   "display_name": "Python 3 (ipykernel)",
   "language": "python",
   "name": "python3"
  },
  "language_info": {
   "codemirror_mode": {
    "name": "ipython",
    "version": 3
   },
   "file_extension": ".py",
   "mimetype": "text/x-python",
   "name": "python",
   "nbconvert_exporter": "python",
   "pygments_lexer": "ipython3",
   "version": "3.11.3"
  }
 },
 "nbformat": 4,
 "nbformat_minor": 5
}
